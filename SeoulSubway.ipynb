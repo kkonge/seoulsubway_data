{
 "cells": [
  {
   "cell_type": "markdown",
   "id": "98ead2d3-c58b-48cd-acc2-970133be3686",
   "metadata": {},
   "source": [
    "# 서울 지하철 24시간 운행을 위한 심야 이용객 분석\n",
    "- 학번: 2024105278\n",
    "- 학과: 소프트웨어융합학과\n",
    "- 학년: 1\n",
    "- 이름: 정여은"
   ]
  },
  {
   "cell_type": "markdown",
   "id": "923e9588-79f3-4297-a43f-49747a9c9d52",
   "metadata": {},
   "source": [
    "## 목차\n",
    "1. 주제 및 선정 이유\n",
    "\n",
    "2. 가설 정의\n",
    "  \n",
    "3. 분석할 데이터의 출처와 데이터 내용\n",
    "\n",
    "4. 데이터 가공\n",
    "\n",
    "5. 분석 결과\n",
    "\n",
    "6. 결론\n",
    "\n",
    "7. 참고 문헌 및 사이트"
   ]
  },
  {
   "cell_type": "markdown",
   "id": "f513412a-cf4e-4ea3-93d2-deebb4e10057",
   "metadata": {},
   "source": [
    "## 1. 주제 및 주제 선정 이유\n",
    "#### [주제]\n",
    "- 서울 지하철의 24시간 운행 추진이 서울 교통 공사의 입장에서 합리적인 것일지와 추진했을 때의 적합한 요일, 호선, 역 등을 지하철 이용객 분석을 통해 알아본다.\n",
    "\n",
    "#### [주제 선정 이유]\n",
    "- 막차시간에 쫓겼던 사람이나, 이른 새벽 첫차 시간에 맞추어 출근해야 하는 사람들은 늘 지하철이 24시간 운영되기를 바란다. 실제 뉴옥이나 런던등 여러나라의 대도시들은 지하철 24시간 운행을 하고 있으며 국민의 편리성 증대뿐만 아니라 외국인 방문률 증대, 일자리 창출 등의 효과를 누릴수 있었다. 하지만 우리나라에서 매일 지하철을 24시간동안 운행하기에는 비용,수요, 안전점검 등의 측면에서 문제가 발생한다. 따라서 야간 데이터 분석을 통해 지하철 24시간 운영에 있어 적합한 요일과, 역 그리고 호선 등을 알아보고자 한다."
   ]
  },
  {
   "cell_type": "markdown",
   "id": "ae7b8c87-292d-483a-a365-dcf46f9f36f9",
   "metadata": {},
   "source": [
    "## 2. 가설 설정\n",
    "\n",
    "#### [1] 2호선에서 이용객 수가 가장 많을 것이다.\n",
    "젊은 층들이 많은 홍대, 강남, 건대입구역을 지나는 2호선에서 이용객 수가 가장 많을 것이다.\n",
    "\n",
    "#### [2] 2호선에서 이용객 수가 가장 많은 역은 강남, 잠실, 사당, 홍대입구, 건대입구역 순일 것이다.\n",
    "직장과 유흥가 그리고 인프라가 잘 조성되어 있고 환승역인 강남, 잠실, 사당, 홍대입구, 건대입구역에서 이용객 수가 가장 많을 것이다.\n",
    "\n",
    "#### [3] 2호선에서 야간 이용객이 가장 많은 요일은 금요일과 토요일일 것이다.\n",
    "다음 날에 직장인에게 있어선 직장/ 학생에게 있어선 수업이 없는 금요일이나 토요일에 사람들은 늦게 귀가할것이기 때문에 심야 이용객 수가 가장 많을 것이다."
   ]
  },
  {
   "cell_type": "markdown",
   "id": "faac8350-8bca-4090-9d90-5574551ff723",
   "metadata": {},
   "source": [
    "## 3. 분석할 데이터의 출처와 데이터 내용\n",
    "데이터 출처: [서울 열린데이터 광장](https://data.seoul.go.kr/dataList/OA-12914/S/1/datasetView.do)\n",
    "- 데이터 내용: 서울시 지하철 호선별 역별 승하차 인원 정보(2024_4월)\n",
    "- 제공 기관: 서울 특별시\n",
    "- 데이터 최신 수정 일자: 2024.05.18\n",
    "\n",
    "데이터 출처: [서울 열린 데이터 광장](https://data.seoul.go.kr/dataList/OA-12252/S/1/datasetView.do)\n",
    "- 데이터 내용: 서울시 지하철 호선별 역별 시간대별 승하차 인원 정보(2024_4월)\n",
    "- 제공 기관: 서울 특별시\n",
    "- 데이터 최신 수정 일자: 2024.05.06\n",
    "\n",
    "### 획득한 데이터 "
   ]
  },
  {
   "cell_type": "code",
   "execution_count": 26,
   "id": "9d206df8-ae71-4e32-8b2a-76c243c37b77",
   "metadata": {},
   "outputs": [],
   "source": [
    "import pandas as pd\n",
    "df1= pd.read_csv(\"CARD_SUBWAY_MONTH_202404.csv\", encoding='utf-8')\n",
    "df2= pd.read_csv(\"card.csv\", encoding='euc-kr')"
   ]
  },
  {
   "cell_type": "markdown",
   "id": "8989ea55-b935-4da8-bf5c-f719bde40e3b",
   "metadata": {},
   "source": [
    "### 서울시 지하철 호선별 역별 승하차 인원 정보"
   ]
  },
  {
   "cell_type": "code",
   "execution_count": 27,
   "id": "6a08db24-40da-4a59-aa0c-b0791be486fd",
   "metadata": {},
   "outputs": [
    {
     "data": {
      "text/html": [
       "<div>\n",
       "<style scoped>\n",
       "    .dataframe tbody tr th:only-of-type {\n",
       "        vertical-align: middle;\n",
       "    }\n",
       "\n",
       "    .dataframe tbody tr th {\n",
       "        vertical-align: top;\n",
       "    }\n",
       "\n",
       "    .dataframe thead th {\n",
       "        text-align: right;\n",
       "    }\n",
       "</style>\n",
       "<table border=\"1\" class=\"dataframe\">\n",
       "  <thead>\n",
       "    <tr style=\"text-align: right;\">\n",
       "      <th></th>\n",
       "      <th>사용일자</th>\n",
       "      <th>노선명</th>\n",
       "      <th>역명</th>\n",
       "      <th>승차총승객수</th>\n",
       "      <th>하차총승객수</th>\n",
       "      <th>등록일자</th>\n",
       "    </tr>\n",
       "  </thead>\n",
       "  <tbody>\n",
       "    <tr>\n",
       "      <th>20240401</th>\n",
       "      <td>9호선2~3단계</td>\n",
       "      <td>중앙보훈병원</td>\n",
       "      <td>13544</td>\n",
       "      <td>11720</td>\n",
       "      <td>20240404</td>\n",
       "      <td>NaN</td>\n",
       "    </tr>\n",
       "    <tr>\n",
       "      <th>20240401</th>\n",
       "      <td>2호선</td>\n",
       "      <td>건대입구</td>\n",
       "      <td>38777</td>\n",
       "      <td>39681</td>\n",
       "      <td>20240404</td>\n",
       "      <td>NaN</td>\n",
       "    </tr>\n",
       "    <tr>\n",
       "      <th>20240401</th>\n",
       "      <td>1호선</td>\n",
       "      <td>제기동</td>\n",
       "      <td>18217</td>\n",
       "      <td>18800</td>\n",
       "      <td>20240404</td>\n",
       "      <td>NaN</td>\n",
       "    </tr>\n",
       "    <tr>\n",
       "      <th>20240401</th>\n",
       "      <td>1호선</td>\n",
       "      <td>신설동</td>\n",
       "      <td>15950</td>\n",
       "      <td>15448</td>\n",
       "      <td>20240404</td>\n",
       "      <td>NaN</td>\n",
       "    </tr>\n",
       "    <tr>\n",
       "      <th>20240401</th>\n",
       "      <td>1호선</td>\n",
       "      <td>서울역</td>\n",
       "      <td>60149</td>\n",
       "      <td>55656</td>\n",
       "      <td>20240404</td>\n",
       "      <td>NaN</td>\n",
       "    </tr>\n",
       "    <tr>\n",
       "      <th>...</th>\n",
       "      <td>...</td>\n",
       "      <td>...</td>\n",
       "      <td>...</td>\n",
       "      <td>...</td>\n",
       "      <td>...</td>\n",
       "      <td>...</td>\n",
       "    </tr>\n",
       "    <tr>\n",
       "      <th>20240430</th>\n",
       "      <td>9호선2~3단계</td>\n",
       "      <td>석촌</td>\n",
       "      <td>10951</td>\n",
       "      <td>9711</td>\n",
       "      <td>20240503</td>\n",
       "      <td>NaN</td>\n",
       "    </tr>\n",
       "    <tr>\n",
       "      <th>20240430</th>\n",
       "      <td>9호선2~3단계</td>\n",
       "      <td>송파나루</td>\n",
       "      <td>6145</td>\n",
       "      <td>6569</td>\n",
       "      <td>20240503</td>\n",
       "      <td>NaN</td>\n",
       "    </tr>\n",
       "    <tr>\n",
       "      <th>20240430</th>\n",
       "      <td>9호선2~3단계</td>\n",
       "      <td>한성백제</td>\n",
       "      <td>3582</td>\n",
       "      <td>3137</td>\n",
       "      <td>20240503</td>\n",
       "      <td>NaN</td>\n",
       "    </tr>\n",
       "    <tr>\n",
       "      <th>20240430</th>\n",
       "      <td>7호선</td>\n",
       "      <td>상봉</td>\n",
       "      <td>19975</td>\n",
       "      <td>19295</td>\n",
       "      <td>20240503</td>\n",
       "      <td>NaN</td>\n",
       "    </tr>\n",
       "    <tr>\n",
       "      <th>20240430</th>\n",
       "      <td>9호선2~3단계</td>\n",
       "      <td>올림픽공원(한국체대)</td>\n",
       "      <td>8819</td>\n",
       "      <td>9383</td>\n",
       "      <td>20240503</td>\n",
       "      <td>NaN</td>\n",
       "    </tr>\n",
       "  </tbody>\n",
       "</table>\n",
       "<p>18483 rows × 6 columns</p>\n",
       "</div>"
      ],
      "text/plain": [
       "              사용일자          노선명     역명  승차총승객수    하차총승객수  등록일자\n",
       "20240401  9호선2~3단계       중앙보훈병원  13544   11720  20240404   NaN\n",
       "20240401       2호선         건대입구  38777   39681  20240404   NaN\n",
       "20240401       1호선          제기동  18217   18800  20240404   NaN\n",
       "20240401       1호선          신설동  15950   15448  20240404   NaN\n",
       "20240401       1호선          서울역  60149   55656  20240404   NaN\n",
       "...            ...          ...    ...     ...       ...   ...\n",
       "20240430  9호선2~3단계           석촌  10951    9711  20240503   NaN\n",
       "20240430  9호선2~3단계         송파나루   6145    6569  20240503   NaN\n",
       "20240430  9호선2~3단계         한성백제   3582    3137  20240503   NaN\n",
       "20240430       7호선           상봉  19975   19295  20240503   NaN\n",
       "20240430  9호선2~3단계  올림픽공원(한국체대)   8819    9383  20240503   NaN\n",
       "\n",
       "[18483 rows x 6 columns]"
      ]
     },
     "execution_count": 27,
     "metadata": {},
     "output_type": "execute_result"
    }
   ],
   "source": [
    "df1 #데이터프레임 출력"
   ]
  },
  {
   "cell_type": "markdown",
   "id": "c1b2deb5-df20-4187-95f1-c6ff81b3cb1d",
   "metadata": {},
   "source": [
    "### 서울시 지하철 호선별 역별 시간대별 승하차 인원 정보"
   ]
  },
  {
   "cell_type": "code",
   "execution_count": 28,
   "id": "2697180b-37f9-465e-8220-e9c52c2c9724",
   "metadata": {},
   "outputs": [
    {
     "data": {
      "text/html": [
       "<div>\n",
       "<style scoped>\n",
       "    .dataframe tbody tr th:only-of-type {\n",
       "        vertical-align: middle;\n",
       "    }\n",
       "\n",
       "    .dataframe tbody tr th {\n",
       "        vertical-align: top;\n",
       "    }\n",
       "\n",
       "    .dataframe thead th {\n",
       "        text-align: right;\n",
       "    }\n",
       "</style>\n",
       "<table border=\"1\" class=\"dataframe\">\n",
       "  <thead>\n",
       "    <tr style=\"text-align: right;\">\n",
       "      <th></th>\n",
       "      <th>연번</th>\n",
       "      <th>날짜</th>\n",
       "      <th>호선</th>\n",
       "      <th>역번호</th>\n",
       "      <th>역명</th>\n",
       "      <th>구분</th>\n",
       "      <th>06시 이전</th>\n",
       "      <th>06시-07시</th>\n",
       "      <th>07시-08시</th>\n",
       "      <th>08시-09시</th>\n",
       "      <th>...</th>\n",
       "      <th>15시-16시</th>\n",
       "      <th>16시-17시</th>\n",
       "      <th>17시-18시</th>\n",
       "      <th>18시-19시</th>\n",
       "      <th>19시-20시</th>\n",
       "      <th>20시-21시</th>\n",
       "      <th>21시-22시</th>\n",
       "      <th>22시-23시</th>\n",
       "      <th>23시-24시</th>\n",
       "      <th>24시 이후</th>\n",
       "    </tr>\n",
       "  </thead>\n",
       "  <tbody>\n",
       "    <tr>\n",
       "      <th>0</th>\n",
       "      <td>1</td>\n",
       "      <td>2023-11-01</td>\n",
       "      <td>1호선</td>\n",
       "      <td>150</td>\n",
       "      <td>서울역</td>\n",
       "      <td>승차</td>\n",
       "      <td>342</td>\n",
       "      <td>520</td>\n",
       "      <td>1929</td>\n",
       "      <td>2864</td>\n",
       "      <td>...</td>\n",
       "      <td>3265</td>\n",
       "      <td>3834</td>\n",
       "      <td>6739</td>\n",
       "      <td>9519</td>\n",
       "      <td>4370</td>\n",
       "      <td>2870</td>\n",
       "      <td>2550</td>\n",
       "      <td>1641</td>\n",
       "      <td>753</td>\n",
       "      <td>72</td>\n",
       "    </tr>\n",
       "    <tr>\n",
       "      <th>1</th>\n",
       "      <td>2</td>\n",
       "      <td>2023-11-01</td>\n",
       "      <td>1호선</td>\n",
       "      <td>150</td>\n",
       "      <td>서울역</td>\n",
       "      <td>하차</td>\n",
       "      <td>300</td>\n",
       "      <td>2166</td>\n",
       "      <td>5186</td>\n",
       "      <td>10500</td>\n",
       "      <td>...</td>\n",
       "      <td>2372</td>\n",
       "      <td>2231</td>\n",
       "      <td>3041</td>\n",
       "      <td>3053</td>\n",
       "      <td>1729</td>\n",
       "      <td>1249</td>\n",
       "      <td>1114</td>\n",
       "      <td>734</td>\n",
       "      <td>381</td>\n",
       "      <td>108</td>\n",
       "    </tr>\n",
       "    <tr>\n",
       "      <th>2</th>\n",
       "      <td>3</td>\n",
       "      <td>2023-11-01</td>\n",
       "      <td>1호선</td>\n",
       "      <td>151</td>\n",
       "      <td>시청</td>\n",
       "      <td>승차</td>\n",
       "      <td>86</td>\n",
       "      <td>157</td>\n",
       "      <td>303</td>\n",
       "      <td>415</td>\n",
       "      <td>...</td>\n",
       "      <td>1973</td>\n",
       "      <td>2508</td>\n",
       "      <td>4322</td>\n",
       "      <td>7531</td>\n",
       "      <td>2677</td>\n",
       "      <td>2211</td>\n",
       "      <td>2100</td>\n",
       "      <td>1250</td>\n",
       "      <td>399</td>\n",
       "      <td>31</td>\n",
       "    </tr>\n",
       "    <tr>\n",
       "      <th>3</th>\n",
       "      <td>4</td>\n",
       "      <td>2023-11-01</td>\n",
       "      <td>1호선</td>\n",
       "      <td>151</td>\n",
       "      <td>시청</td>\n",
       "      <td>하차</td>\n",
       "      <td>220</td>\n",
       "      <td>1014</td>\n",
       "      <td>3464</td>\n",
       "      <td>9344</td>\n",
       "      <td>...</td>\n",
       "      <td>971</td>\n",
       "      <td>973</td>\n",
       "      <td>1102</td>\n",
       "      <td>1012</td>\n",
       "      <td>556</td>\n",
       "      <td>321</td>\n",
       "      <td>264</td>\n",
       "      <td>174</td>\n",
       "      <td>108</td>\n",
       "      <td>40</td>\n",
       "    </tr>\n",
       "    <tr>\n",
       "      <th>4</th>\n",
       "      <td>5</td>\n",
       "      <td>2023-11-01</td>\n",
       "      <td>1호선</td>\n",
       "      <td>152</td>\n",
       "      <td>종각</td>\n",
       "      <td>승차</td>\n",
       "      <td>144</td>\n",
       "      <td>167</td>\n",
       "      <td>256</td>\n",
       "      <td>454</td>\n",
       "      <td>...</td>\n",
       "      <td>2364</td>\n",
       "      <td>2805</td>\n",
       "      <td>6649</td>\n",
       "      <td>10098</td>\n",
       "      <td>3847</td>\n",
       "      <td>3149</td>\n",
       "      <td>3366</td>\n",
       "      <td>2330</td>\n",
       "      <td>908</td>\n",
       "      <td>38</td>\n",
       "    </tr>\n",
       "    <tr>\n",
       "      <th>...</th>\n",
       "      <td>...</td>\n",
       "      <td>...</td>\n",
       "      <td>...</td>\n",
       "      <td>...</td>\n",
       "      <td>...</td>\n",
       "      <td>...</td>\n",
       "      <td>...</td>\n",
       "      <td>...</td>\n",
       "      <td>...</td>\n",
       "      <td>...</td>\n",
       "      <td>...</td>\n",
       "      <td>...</td>\n",
       "      <td>...</td>\n",
       "      <td>...</td>\n",
       "      <td>...</td>\n",
       "      <td>...</td>\n",
       "      <td>...</td>\n",
       "      <td>...</td>\n",
       "      <td>...</td>\n",
       "      <td>...</td>\n",
       "      <td>...</td>\n",
       "    </tr>\n",
       "    <tr>\n",
       "      <th>50233</th>\n",
       "      <td>50234</td>\n",
       "      <td>2024-01-31</td>\n",
       "      <td>8호선</td>\n",
       "      <td>2826</td>\n",
       "      <td>수진</td>\n",
       "      <td>하차</td>\n",
       "      <td>28</td>\n",
       "      <td>73</td>\n",
       "      <td>136</td>\n",
       "      <td>290</td>\n",
       "      <td>...</td>\n",
       "      <td>353</td>\n",
       "      <td>341</td>\n",
       "      <td>426</td>\n",
       "      <td>690</td>\n",
       "      <td>584</td>\n",
       "      <td>318</td>\n",
       "      <td>276</td>\n",
       "      <td>226</td>\n",
       "      <td>162</td>\n",
       "      <td>41</td>\n",
       "    </tr>\n",
       "    <tr>\n",
       "      <th>50234</th>\n",
       "      <td>50235</td>\n",
       "      <td>2024-01-31</td>\n",
       "      <td>8호선</td>\n",
       "      <td>2827</td>\n",
       "      <td>모란</td>\n",
       "      <td>승차</td>\n",
       "      <td>80</td>\n",
       "      <td>120</td>\n",
       "      <td>356</td>\n",
       "      <td>456</td>\n",
       "      <td>...</td>\n",
       "      <td>353</td>\n",
       "      <td>360</td>\n",
       "      <td>381</td>\n",
       "      <td>452</td>\n",
       "      <td>244</td>\n",
       "      <td>160</td>\n",
       "      <td>137</td>\n",
       "      <td>117</td>\n",
       "      <td>70</td>\n",
       "      <td>30</td>\n",
       "    </tr>\n",
       "    <tr>\n",
       "      <th>50235</th>\n",
       "      <td>50236</td>\n",
       "      <td>2024-01-31</td>\n",
       "      <td>8호선</td>\n",
       "      <td>2827</td>\n",
       "      <td>모란</td>\n",
       "      <td>하차</td>\n",
       "      <td>19</td>\n",
       "      <td>128</td>\n",
       "      <td>161</td>\n",
       "      <td>374</td>\n",
       "      <td>...</td>\n",
       "      <td>220</td>\n",
       "      <td>241</td>\n",
       "      <td>284</td>\n",
       "      <td>428</td>\n",
       "      <td>226</td>\n",
       "      <td>128</td>\n",
       "      <td>122</td>\n",
       "      <td>100</td>\n",
       "      <td>61</td>\n",
       "      <td>83</td>\n",
       "    </tr>\n",
       "    <tr>\n",
       "      <th>50236</th>\n",
       "      <td>50237</td>\n",
       "      <td>2024-01-31</td>\n",
       "      <td>8호선</td>\n",
       "      <td>2828</td>\n",
       "      <td>남위례</td>\n",
       "      <td>승차</td>\n",
       "      <td>54</td>\n",
       "      <td>283</td>\n",
       "      <td>923</td>\n",
       "      <td>1111</td>\n",
       "      <td>...</td>\n",
       "      <td>379</td>\n",
       "      <td>392</td>\n",
       "      <td>613</td>\n",
       "      <td>789</td>\n",
       "      <td>338</td>\n",
       "      <td>263</td>\n",
       "      <td>251</td>\n",
       "      <td>202</td>\n",
       "      <td>105</td>\n",
       "      <td>33</td>\n",
       "    </tr>\n",
       "    <tr>\n",
       "      <th>50237</th>\n",
       "      <td>50238</td>\n",
       "      <td>2024-01-31</td>\n",
       "      <td>8호선</td>\n",
       "      <td>2828</td>\n",
       "      <td>남위례</td>\n",
       "      <td>하차</td>\n",
       "      <td>39</td>\n",
       "      <td>134</td>\n",
       "      <td>340</td>\n",
       "      <td>932</td>\n",
       "      <td>...</td>\n",
       "      <td>348</td>\n",
       "      <td>406</td>\n",
       "      <td>638</td>\n",
       "      <td>1048</td>\n",
       "      <td>864</td>\n",
       "      <td>376</td>\n",
       "      <td>414</td>\n",
       "      <td>316</td>\n",
       "      <td>214</td>\n",
       "      <td>89</td>\n",
       "    </tr>\n",
       "  </tbody>\n",
       "</table>\n",
       "<p>50238 rows × 26 columns</p>\n",
       "</div>"
      ],
      "text/plain": [
       "          연번          날짜   호선   역번호   역명  구분  06시 이전  06시-07시  07시-08시  \\\n",
       "0          1  2023-11-01  1호선   150  서울역  승차     342      520     1929   \n",
       "1          2  2023-11-01  1호선   150  서울역  하차     300     2166     5186   \n",
       "2          3  2023-11-01  1호선   151   시청  승차      86      157      303   \n",
       "3          4  2023-11-01  1호선   151   시청  하차     220     1014     3464   \n",
       "4          5  2023-11-01  1호선   152   종각  승차     144      167      256   \n",
       "...      ...         ...  ...   ...  ...  ..     ...      ...      ...   \n",
       "50233  50234  2024-01-31  8호선  2826   수진  하차      28       73      136   \n",
       "50234  50235  2024-01-31  8호선  2827   모란  승차      80      120      356   \n",
       "50235  50236  2024-01-31  8호선  2827   모란  하차      19      128      161   \n",
       "50236  50237  2024-01-31  8호선  2828  남위례  승차      54      283      923   \n",
       "50237  50238  2024-01-31  8호선  2828  남위례  하차      39      134      340   \n",
       "\n",
       "       08시-09시  ...  15시-16시  16시-17시  17시-18시  18시-19시  19시-20시  20시-21시  \\\n",
       "0         2864  ...     3265     3834     6739     9519     4370     2870   \n",
       "1        10500  ...     2372     2231     3041     3053     1729     1249   \n",
       "2          415  ...     1973     2508     4322     7531     2677     2211   \n",
       "3         9344  ...      971      973     1102     1012      556      321   \n",
       "4          454  ...     2364     2805     6649    10098     3847     3149   \n",
       "...        ...  ...      ...      ...      ...      ...      ...      ...   \n",
       "50233      290  ...      353      341      426      690      584      318   \n",
       "50234      456  ...      353      360      381      452      244      160   \n",
       "50235      374  ...      220      241      284      428      226      128   \n",
       "50236     1111  ...      379      392      613      789      338      263   \n",
       "50237      932  ...      348      406      638     1048      864      376   \n",
       "\n",
       "       21시-22시  22시-23시  23시-24시  24시 이후  \n",
       "0         2550     1641      753      72  \n",
       "1         1114      734      381     108  \n",
       "2         2100     1250      399      31  \n",
       "3          264      174      108      40  \n",
       "4         3366     2330      908      38  \n",
       "...        ...      ...      ...     ...  \n",
       "50233      276      226      162      41  \n",
       "50234      137      117       70      30  \n",
       "50235      122      100       61      83  \n",
       "50236      251      202      105      33  \n",
       "50237      414      316      214      89  \n",
       "\n",
       "[50238 rows x 26 columns]"
      ]
     },
     "execution_count": 28,
     "metadata": {},
     "output_type": "execute_result"
    }
   ],
   "source": [
    "df2"
   ]
  },
  {
   "cell_type": "markdown",
   "id": "2e317eba-36e1-4c91-8658-8da68d80c48d",
   "metadata": {},
   "source": [
    "## 데이터 분석"
   ]
  },
  {
   "cell_type": "markdown",
   "id": "52f3be3d-b387-49b0-8e5b-c121fbd81f87",
   "metadata": {},
   "source": [
    "## 4-1. 가설 1 데이터 분석"
   ]
  },
  {
   "cell_type": "markdown",
   "id": "6bc186de-6b58-41b0-86b8-5d8d748d8d55",
   "metadata": {},
   "source": [
    "### 이용객이 가장 많은 호선을 알아보기 위한 데이터 가공"
   ]
  },
  {
   "cell_type": "code",
   "execution_count": 119,
   "id": "d1ffc62c-bf4f-4a75-909a-5ff29b580c8a",
   "metadata": {},
   "outputs": [
    {
     "name": "stdout",
     "output_type": "stream",
     "text": [
      "<각 호선 별 4월 한달간의 승차 총객수>\n"
     ]
    },
    {
     "data": {
      "text/plain": [
       "호선\n",
       "1호선     7410725\n",
       "2호선    42468404\n",
       "3호선    16222529\n",
       "4호선    16034705\n",
       "5호선    20140215\n",
       "6호선    10676323\n",
       "7호선    18171372\n",
       "8호선     5961139\n",
       "9호선     8684976\n",
       "Name: 승차총객수, dtype: int64"
      ]
     },
     "execution_count": 119,
     "metadata": {},
     "output_type": "execute_result"
    }
   ],
   "source": [
    "import pandas as pd\n",
    "df1_line = pd.read_csv(\"CARD_SUBWAY_MONTH_202404.csv\", encoding='utf-8')\n",
    "#columns 이름 설정하기\n",
    "df1_line.columns=[\"호선\",\"역명\",\"승차총객수\",\"하차총객수\",\"등록일자\",\".\"]\n",
    "#1호선~9호선 데이터만 추출하기\n",
    "df1_total=df1_line[df1_line['호선'].isin(['1호선','2호선','3호선','4호선','5호선','6호선','7호선','8호선','9호선'])]\n",
    "#각 호선별 한달간 승차총객수의 합 데이터 추출하기\n",
    "numbers=df1_total.groupby(by=['호선'])['승차총객수'].sum()\n",
    "\n",
    "#데이터 확인하기\n",
    "print(\"<각 호선 별 4월 한달간의 승차 총객수>\")\n",
    "numbers"
   ]
  },
  {
   "cell_type": "markdown",
   "id": "5b7fff11-9f2b-4a67-997a-6fd0351151e1",
   "metadata": {},
   "source": [
    "## 4-2.가설 2 데이터 분석"
   ]
  },
  {
   "cell_type": "markdown",
   "id": "112c0b92-5ecb-4aa6-86b8-241ae47740ba",
   "metadata": {},
   "source": [
    "### 2호선에서 이용객이 가장 많은 역을 알아보기 위한 데이터 가공"
   ]
  },
  {
   "cell_type": "code",
   "execution_count": 122,
   "id": "b8809630-0703-4391-94c0-baa39a8a9d82",
   "metadata": {},
   "outputs": [
    {
     "name": "stdout",
     "output_type": "stream",
     "text": [
      "<4월 한달 간 2호선에서의 역별 이용객 수>\n"
     ]
    },
    {
     "data": {
      "text/plain": [
       "역명\n",
       "강남          2323964\n",
       "건대입구        1566054\n",
       "구로디지털단지     1660899\n",
       "사당          2050978\n",
       "선릉          1942587\n",
       "성수          1273785\n",
       "신도림         1652851\n",
       "신림          1699277\n",
       "역삼          1394603\n",
       "잠실(송파구청)    3089275\n",
       "홍대입구        2673472\n",
       "Name: 승차총객수, dtype: int64"
      ]
     },
     "execution_count": 122,
     "metadata": {},
     "output_type": "execute_result"
    }
   ],
   "source": [
    "import pandas as pd\n",
    "df1_line = pd.read_csv(\"CARD_SUBWAY_MONTH_202404.csv\", encoding='utf-8')\n",
    "df1_line.columns=[\"호선\",\"역명\",\"승차총객수\",\"하차총객수\",\"등록일자\",\".\"]\n",
    "#2호선 데이터만 추출하기\n",
    "df_total=df1_line[df1_line['호선'].isin(['2호선'])]\n",
    "#역명을 나타내는 데이터값이 너무 많기때문에 한눈에 봤을때 이용객이 많은 역 몇군데를 간추려 데이터를 추출하기.\n",
    "df_total=df1_line[df1_line['역명'].isin(['강남','성수','건대입구','홍대입구','역삼','선릉','잠실(송파구청)','구로디지털단지','사당','신림','신도림'])]\n",
    "#4월 한달 간 역별 이용객 수의 합 추출하기\n",
    "numbers2=df_total.groupby(by=['역명'])['승차총객수'].sum()\n",
    "print(\"<4월 한달 간 2호선에서의 역별 이용객 수>\")\n",
    "numbers2"
   ]
  },
  {
   "cell_type": "markdown",
   "id": "58ba59de-4436-4bf0-9a5e-a2e3a6344a02",
   "metadata": {},
   "source": [
    "## 4-3. 가설 3 데이터 분석"
   ]
  },
  {
   "cell_type": "markdown",
   "id": "46909964-b63e-4366-9aa0-49fa5ba3f0f8",
   "metadata": {},
   "source": [
    "### 야간 이용객이 가장 많은 요일을 알아보기 위한 데이터 가공"
   ]
  },
  {
   "cell_type": "markdown",
   "id": "63e3f676-7110-4ccb-ae80-9cce588e672a",
   "metadata": {},
   "source": [
    "2024-01-07(일)부터 2024-01-13(월)과 2024-01-14(일)부터 2024-01-20(월)까지의 2주일간의 야간 데이터를 추출하여 야간 이용객이 가장 많은 요일을 알아낸다."
   ]
  },
  {
   "cell_type": "code",
   "execution_count": 2,
   "id": "87ba6499-8774-4900-96c4-3b69f1c9a928",
   "metadata": {},
   "outputs": [],
   "source": [
    "import pandas as pd\n",
    "df2= pd.read_csv(\"card.csv\", encoding='euc-kr')\n",
    "#22시~24시 이후의 야간 데이터만 추출하기\n",
    "df2_frame=df2[['날짜','호선','22시-23시','23시-24시','24시 이후']]\n",
    "#2호선만 추출하기\n",
    "df2_time=df2_frame[df2_frame['호선'].isin(['2호선'])]\n",
    "#2024-01-07~2024-01-13의 일주일간의 데이터만 추출하기\n",
    "df2_data=df2_time[df2_time['날짜'].isin(['2024-01-07','2024-01-08','2024-01-09','2024-01-10','2024-01-11','2024-01-12','2024-01-13'])]\n",
    "df3_data=df2_time[df2_time['날짜'].isin(['2024-01-14','2024-01-15','2024-01-16','2024-01-17','2024-01-18','2024-01-19','2024-01-20'])]\n",
    "#날짜별 각각의 역에서의 승차인원수를 합산하기\n",
    "numbers3=df2_data.groupby(by='날짜')[['22시-23시','23시-24시','24시 이후']].sum()\n",
    "numbers4=df3_data.groupby(by='날짜')[['22시-23시','23시-24시','24시 이후']].sum()"
   ]
  },
  {
   "cell_type": "code",
   "execution_count": 127,
   "id": "a12582e9-f041-4b5b-ba13-e110f39b10ef",
   "metadata": {},
   "outputs": [
    {
     "data": {
      "text/html": [
       "<div>\n",
       "<style scoped>\n",
       "    .dataframe tbody tr th:only-of-type {\n",
       "        vertical-align: middle;\n",
       "    }\n",
       "\n",
       "    .dataframe tbody tr th {\n",
       "        vertical-align: top;\n",
       "    }\n",
       "\n",
       "    .dataframe thead th {\n",
       "        text-align: right;\n",
       "    }\n",
       "</style>\n",
       "<table border=\"1\" class=\"dataframe\">\n",
       "  <thead>\n",
       "    <tr style=\"text-align: right;\">\n",
       "      <th></th>\n",
       "      <th>22시-23시</th>\n",
       "      <th>23시-24시</th>\n",
       "      <th>24시 이후</th>\n",
       "    </tr>\n",
       "    <tr>\n",
       "      <th>날짜</th>\n",
       "      <th></th>\n",
       "      <th></th>\n",
       "      <th></th>\n",
       "    </tr>\n",
       "  </thead>\n",
       "  <tbody>\n",
       "    <tr>\n",
       "      <th>2024-01-07</th>\n",
       "      <td>64318</td>\n",
       "      <td>32444</td>\n",
       "      <td>1589</td>\n",
       "    </tr>\n",
       "    <tr>\n",
       "      <th>2024-01-08</th>\n",
       "      <td>94527</td>\n",
       "      <td>44622</td>\n",
       "      <td>13107</td>\n",
       "    </tr>\n",
       "    <tr>\n",
       "      <th>2024-01-09</th>\n",
       "      <td>105208</td>\n",
       "      <td>51819</td>\n",
       "      <td>16646</td>\n",
       "    </tr>\n",
       "    <tr>\n",
       "      <th>2024-01-10</th>\n",
       "      <td>115308</td>\n",
       "      <td>56263</td>\n",
       "      <td>17193</td>\n",
       "    </tr>\n",
       "    <tr>\n",
       "      <th>2024-01-11</th>\n",
       "      <td>118639</td>\n",
       "      <td>60746</td>\n",
       "      <td>19174</td>\n",
       "    </tr>\n",
       "    <tr>\n",
       "      <th>2024-01-12</th>\n",
       "      <td>126794</td>\n",
       "      <td>77444</td>\n",
       "      <td>28181</td>\n",
       "    </tr>\n",
       "    <tr>\n",
       "      <th>2024-01-13</th>\n",
       "      <td>105374</td>\n",
       "      <td>62853</td>\n",
       "      <td>5165</td>\n",
       "    </tr>\n",
       "  </tbody>\n",
       "</table>\n",
       "</div>"
      ],
      "text/plain": [
       "            22시-23시  23시-24시  24시 이후\n",
       "날짜                                  \n",
       "2024-01-07    64318    32444    1589\n",
       "2024-01-08    94527    44622   13107\n",
       "2024-01-09   105208    51819   16646\n",
       "2024-01-10   115308    56263   17193\n",
       "2024-01-11   118639    60746   19174\n",
       "2024-01-12   126794    77444   28181\n",
       "2024-01-13   105374    62853    5165"
      ]
     },
     "execution_count": 127,
     "metadata": {},
     "output_type": "execute_result"
    }
   ],
   "source": [
    "numbers3"
   ]
  },
  {
   "cell_type": "code",
   "execution_count": 128,
   "id": "dae423aa-b743-4da9-9fc1-205cf1edab6b",
   "metadata": {},
   "outputs": [
    {
     "data": {
      "text/html": [
       "<div>\n",
       "<style scoped>\n",
       "    .dataframe tbody tr th:only-of-type {\n",
       "        vertical-align: middle;\n",
       "    }\n",
       "\n",
       "    .dataframe tbody tr th {\n",
       "        vertical-align: top;\n",
       "    }\n",
       "\n",
       "    .dataframe thead th {\n",
       "        text-align: right;\n",
       "    }\n",
       "</style>\n",
       "<table border=\"1\" class=\"dataframe\">\n",
       "  <thead>\n",
       "    <tr style=\"text-align: right;\">\n",
       "      <th></th>\n",
       "      <th>22시-23시</th>\n",
       "      <th>23시-24시</th>\n",
       "      <th>24시 이후</th>\n",
       "    </tr>\n",
       "    <tr>\n",
       "      <th>날짜</th>\n",
       "      <th></th>\n",
       "      <th></th>\n",
       "      <th></th>\n",
       "    </tr>\n",
       "  </thead>\n",
       "  <tbody>\n",
       "    <tr>\n",
       "      <th>2024-01-14</th>\n",
       "      <td>64456</td>\n",
       "      <td>32760</td>\n",
       "      <td>1714</td>\n",
       "    </tr>\n",
       "    <tr>\n",
       "      <th>2024-01-15</th>\n",
       "      <td>94997</td>\n",
       "      <td>46458</td>\n",
       "      <td>13547</td>\n",
       "    </tr>\n",
       "    <tr>\n",
       "      <th>2024-01-16</th>\n",
       "      <td>108569</td>\n",
       "      <td>52117</td>\n",
       "      <td>15472</td>\n",
       "    </tr>\n",
       "    <tr>\n",
       "      <th>2024-01-17</th>\n",
       "      <td>114685</td>\n",
       "      <td>57834</td>\n",
       "      <td>18664</td>\n",
       "    </tr>\n",
       "    <tr>\n",
       "      <th>2024-01-18</th>\n",
       "      <td>122055</td>\n",
       "      <td>61738</td>\n",
       "      <td>19654</td>\n",
       "    </tr>\n",
       "    <tr>\n",
       "      <th>2024-01-19</th>\n",
       "      <td>129366</td>\n",
       "      <td>78156</td>\n",
       "      <td>28676</td>\n",
       "    </tr>\n",
       "    <tr>\n",
       "      <th>2024-01-20</th>\n",
       "      <td>96333</td>\n",
       "      <td>62739</td>\n",
       "      <td>4899</td>\n",
       "    </tr>\n",
       "  </tbody>\n",
       "</table>\n",
       "</div>"
      ],
      "text/plain": [
       "            22시-23시  23시-24시  24시 이후\n",
       "날짜                                  \n",
       "2024-01-14    64456    32760    1714\n",
       "2024-01-15    94997    46458   13547\n",
       "2024-01-16   108569    52117   15472\n",
       "2024-01-17   114685    57834   18664\n",
       "2024-01-18   122055    61738   19654\n",
       "2024-01-19   129366    78156   28676\n",
       "2024-01-20    96333    62739    4899"
      ]
     },
     "execution_count": 128,
     "metadata": {},
     "output_type": "execute_result"
    }
   ],
   "source": [
    "numbers4"
   ]
  },
  {
   "cell_type": "markdown",
   "id": "7240f08f-9f75-4b0b-a828-c5447de7d258",
   "metadata": {},
   "source": [
    "## 5. 분석 결과"
   ]
  },
  {
   "cell_type": "markdown",
   "id": "bd4be445-789a-4d14-b83b-1b3245c1138e",
   "metadata": {},
   "source": [
    "### 5-1. 가설 1 분석 결과"
   ]
  },
  {
   "cell_type": "markdown",
   "id": "559f6b3f-a437-4962-9c20-d52fa97e5d2d",
   "metadata": {},
   "source": [
    "### 가설1: 2호선에서 이용객 수가 가장 많을 것이다.\n",
    "젊은 층들이 많은 홍대, 강남, 건대입구역을 지나는 2호선에서 이용객 수가 가장 많을 것이다."
   ]
  },
  {
   "cell_type": "code",
   "execution_count": 174,
   "id": "d74d2e26-ba5c-426c-97e6-3c03a4cc17a2",
   "metadata": {},
   "outputs": [
    {
     "data": {
      "text/plain": [
       "Text(0.5, 1.0, '<호선별 이용객 수>')"
      ]
     },
     "execution_count": 174,
     "metadata": {},
     "output_type": "execute_result"
    },
    {
     "data": {
      "image/png": "[encoded data removed]",
      "text/plain": [
       "<Figure size 640x480 with 1 Axes>"
      ]
     },
     "metadata": {},
     "output_type": "display_data"
    }
   ],
   "source": [
    "import matplotlib.pyplot as plt\n",
    "from matplotlib import rc\n",
    "rc('font', family='AppleGothic')\n",
    "plt.rcParams['axes.unicode_minus']=False\n",
    "#막대그래프 불러오기\n",
    "numbers.plot.bar()\n",
    "plt.title('<호선별 이용객 수>')"
   ]
  },
  {
   "cell_type": "markdown",
   "id": "53ad7fa1-1465-4ef0-b42c-e3e88c902a39",
   "metadata": {},
   "source": [
    "### 가설 1은 참이다"
   ]
  },
  {
   "cell_type": "markdown",
   "id": "c075eaa8-5bed-4878-aa21-cbef11b21685",
   "metadata": {},
   "source": [
    "- 실제 결과: 4월 한달 간 2호선의 이용객 수는 42468404명으로 다른 호선들의 이용객 수에 비해 압도적으로 많았다. 이용객의 수가 20140215명으로 두번째로 많았던 5호선보다 2배 이상 차이가 날 정도였으며, 이는 가설과 같이 2호선이 강남, 홍대입구역, 잠실 등 유동인구가 많은 지역을 지나기 때문임을 짐작할 수 있었다. 2호선,5호선,7호선,3호선,4호선,6호선,9호선,8호선,1호선의 순서대로 이용객 수가 많았다."
   ]
  },
  {
   "cell_type": "markdown",
   "id": "8d5e9733-09d2-4abd-aca1-3b0f9203d6ac",
   "metadata": {},
   "source": [
    "## 5.2. 가설 2 분석 결과"
   ]
  },
  {
   "cell_type": "markdown",
   "id": "04973e23-2163-4e03-9976-b653b7d923d7",
   "metadata": {},
   "source": [
    "### 가설2: 2호선에서 이용객 수가 가장 많은 역은 강남, 잠실, 사당, 홍대입구, 건대입구역 순일 것이다.\n",
    "직장과 유흥가 그리고 인프라가 잘 조성되어 있고 환승역인 강남, 잠실, 사당, 홍대입구, 건대입구역에서 이용객 수가 가장 많을 것이다."
   ]
  },
  {
   "cell_type": "code",
   "execution_count": 175,
   "id": "4d19d69a-c46e-42f5-b24e-f4d65f5d9162",
   "metadata": {},
   "outputs": [
    {
     "data": {
      "text/plain": [
       "Text(0.5, 1.0, '<2호선에서 역별 이용객 수>')"
      ]
     },
     "execution_count": 175,
     "metadata": {},
     "output_type": "execute_result"
    },
    {
     "data": {
      "image/png": "[encoded data removed]",
      "text/plain": [
       "<Figure size 640x480 with 1 Axes>"
      ]
     },
     "metadata": {},
     "output_type": "display_data"
    }
   ],
   "source": [
    "import matplotlib.pyplot as plt\n",
    "from matplotlib import rc\n",
    "rc('font', family='AppleGothic')\n",
    "plt.rcParams['axes.unicode_minus']=False\n",
    "numbers2.plot.barh()\n",
    "plt.title('<2호선에서 역별 이용객 수>')"
   ]
  },
  {
   "cell_type": "markdown",
   "id": "babb6802-5310-490f-b4cf-1d6905c28b53",
   "metadata": {},
   "source": [
    "### 가설 2는 거짓이다"
   ]
  },
  {
   "cell_type": "markdown",
   "id": "ed98493c-f348-40de-9c66-0f38d8007627",
   "metadata": {},
   "source": [
    "- 실제 결과: 2호선에서 이용객 수는 잠실, 강남, 홍대입구, 구로디지털단지, 신림, 신도림,사당,역삼,성수,선릉,건대입구 순으로 많았으며, 잠실에서 4월 한달간 이용객 수가 805684명으로 가장 많았다."
   ]
  },
  {
   "cell_type": "markdown",
   "id": "f62b9252-a0f0-4aa3-8c5a-0a540d636b53",
   "metadata": {},
   "source": [
    "## 5.3 가설 3 분석 결과"
   ]
  },
  {
   "cell_type": "markdown",
   "id": "da1cdce0-17d8-4d52-a626-ee7c72698949",
   "metadata": {},
   "source": [
    "### 가설3: 2호선에서 야간 이용객이 가장 많은 요일은 금요일과 토요일일 것이다.\n",
    "다음 날에 직장인에게 있어선 직장/ 학생에게 있어선 수업이 없는 금요일이나 토요일에 사람들은 늦게 귀가할것이기 때문에 심야 이용객 수가 가장 많을 것이다."
   ]
  },
  {
   "cell_type": "code",
   "execution_count": 3,
   "id": "fac59923-5da6-49cb-bcaa-70fdcbd9ae06",
   "metadata": {},
   "outputs": [
    {
     "data": {
      "text/plain": [
       "Text(0.5, 1.0, '<2024-01-07~2024-01-13, 2호선에서 야간 이용객 수>')"
      ]
     },
     "execution_count": 3,
     "metadata": {},
     "output_type": "execute_result"
    },
    {
     "data": {
      "image/png": "[encoded data removed]",
      "text/plain": [
       "<Figure size 640x480 with 1 Axes>"
      ]
     },
     "metadata": {},
     "output_type": "display_data"
    }
   ],
   "source": [
    "import matplotlib.pyplot as plt\n",
    "from matplotlib import rc\n",
    "rc('font', family='AppleGothic')\n",
    "plt.rcParams['axes.unicode_minus']=False\n",
    "numbers3.plot.bar()\n",
    "plt.title('<2024-01-07~2024-01-13, 2호선에서 야간 이용객 수>')"
   ]
  },
  {
   "cell_type": "code",
   "execution_count": 4,
   "id": "1037143f-b28d-43a6-a655-a3b9ccb7c6ba",
   "metadata": {},
   "outputs": [
    {
     "data": {
      "text/plain": [
       "Text(0.5, 1.0, '<2024-01-14~2024-01-20, 2호선에서 야간 이용객 수>')"
      ]
     },
     "execution_count": 4,
     "metadata": {},
     "output_type": "execute_result"
    },
    {
     "data": {
      "image/png": "[encoded data removed]",
      "text/plain": [
       "<Figure size 640x480 with 1 Axes>"
      ]
     },
     "metadata": {},
     "output_type": "display_data"
    }
   ],
   "source": [
    "import matplotlib.pyplot as plt\n",
    "from matplotlib import rc\n",
    "rc('font', family='AppleGothic')\n",
    "plt.rcParams['axes.unicode_minus']=False\n",
    "numbers4.plot.bar()\n",
    "plt.title('<2024-01-14~2024-01-20, 2호선에서 야간 이용객 수>')"
   ]
  },
  {
   "cell_type": "markdown",
   "id": "aa88bee3-b24f-4365-9bd2-159b3072935d",
   "metadata": {},
   "source": [
    "### 가설 3은 금요일은 참이고 토요일은 거짓이다"
   ]
  },
  {
   "cell_type": "markdown",
   "id": "e3fcc10d-ccb1-4689-815b-bbeed6a318cb",
   "metadata": {},
   "source": [
    "- 실제결과: 2024-01-07부터 2024-01-13까지의 데이터에선 2024-01-12 금요일에 야간 이용객이 가장 많았으며 2024-01-11 목요일에 야간 이용객이 두번째로 많았다.\n",
    "  2024-01-14부터2024-01-20 까지의 데이터에서도 마찬가지로 2024-01-19 금요일 야간 이용객이 가장 많았으며 2024-01-18 목요일에 야간 이용객이 두번째로 많았다.\n",
    "  예상과 달리 토요일의 야간 이용객 수는 5번째로 많고, 일요일은 가장 적어 주말에는 지하철 야간 이용객 수가 적다는 것을 알 수 있었다. "
   ]
  },
  {
   "cell_type": "markdown",
   "id": "a2dfc45c-bf93-496e-aac7-0339063607a4",
   "metadata": {},
   "source": [
    "## 6.결론\n",
    "- 가설과 같이 서울의 모든 호선 중 2호선의 이용객 수가 가장 많았으며, 그 중에서도 잠실, 강남, 홍대입구 순으로 이용객 수가 많았다. 또한 2호선의 야간 이용객 수는 목요일과 금요일에 가장 많았다. 만약 서울의 지하철을 모두, 그리고 매일 24시간 야간 운행을 하게 된다면, 안전상의 문제, 비용상의 문제, 수요상의 문제가 발생할 것이다. 때문에 가장 이용객이 많은 열차에서, 가장 이용객이 많은 역에서, 가장 야간 이용객이 많은 요일을 뽑아서 제한적으로 야간 운행을 추진해야 하는데 이번 데이터 분석을 통해 적절한 결론을 찾아낼 수 있었다. 2호선에서, 잠실, 강남, 홍대입구, 구로디지털단지, 신림, 신도림, 역삼, 성수까지의 일부 역만 뽑아, 목요일과 금요일에만 제한적으로 지하철 운행을 추진하는 것이다. 이렇게 한다면 막차 시간에 쫓기는 많은 시민들의 불만사항을 해결할 수 있을 뿐 아니라, 야간에도 상권이 활성화될것이며, 새로운 일자리도 창출되는 등 다양한 효과를 누릴 수 있을 것이다. "
   ]
  },
  {
   "cell_type": "markdown",
   "id": "1ccb0695-77fb-42da-ab62-e9515358ebf9",
   "metadata": {},
   "source": [
    "## 7. 참고 문헌 및 참고 사이트\n",
    "- 서울 열린 데이터 광장\n",
    "https://data.seoul.go.kr\n",
    "- https://news.tf.co.kr/read/life/2038539.htm\n",
    "- https://csshark.tistory.com/106\n",
    "- https://wannabe00.tistory.com/entry/Mac%EC%97%90%EC%84%9C-Matplotlib-%EC%82%AC%EC%9A%A9-%EC%8B%9C-%ED%95%9C%EA%B8%80-%EA%B9%A8%EC%A7%90-%ED%95%B4%EA%B2%B0\n",
    "- https://selfimprove39.tistory.com/entry/python-isin-%EC%82%AC%EC%9A%A9%ED%95%B4%EC%84%9C-%EB%8D%B0%EC%9D%B4%ED%84%B0-%ED%94%84%EB%A0%88%EC%9E%84%EC%97%90%EC%84%9C-%EB%8D%B0%EC%9D%B4%ED%84%B0-%EA%B0%92%EC%9C%BC%EB%A1%9C-%ED%96%89-%EC%B6%94%EC%B6%9C%ED%95%98%EB%8A%94-%EB%B0%A9%EB%B2%95"
   ]
  },
  {
   "cell_type": "markdown",
   "id": "7484826f-de82-4982-b4a3-bf825cf016fb",
   "metadata": {},
   "source": [
    "## 별첨"
   ]
  },
  {
   "cell_type": "markdown",
   "id": "d10809fa-1b7a-4680-8e62-718ec3b5f1c2",
   "metadata": {},
   "source": [
    "- 데이터원본\n",
    "1. CARD_SUBWAY_MONTH_202404.csv\n",
    "   (https://data.seoul.go.kr/dataList/OA-12914/S/1/datasetView.do)\n",
    "2. card.csv\n",
    "   (https://data.seoul.go.kr/dataList/OA-12252/S/1/datasetView.do)"
   ]
  }
 ],
 "metadata": {
  "kernelspec": {
   "display_name": "Python 3 (ipykernel)",
   "language": "python",
   "name": "python3"
  },
  "language_info": {
   "codemirror_mode": {
    "name": "ipython",
    "version": 3
   },
   "file_extension": ".py",
   "mimetype": "text/x-python",
   "name": "python",
   "nbconvert_exporter": "python",
   "pygments_lexer": "ipython3",
   "version": "3.11.7"
  }
 },
 "nbformat": 4,
 "nbformat_minor": 5
}
